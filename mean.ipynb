{
 "cells": [
  {
   "cell_type": "code",
   "execution_count": null,
   "metadata": {},
   "outputs": [
    {
     "ename": "",
     "evalue": "",
     "output_type": "error",
     "traceback": [
      "\u001b[1;31mRunning cells with 'Python 3.12.3' requires the ipykernel package.\n",
      "\u001b[1;31mRun the following command to install 'ipykernel' into the Python environment. \n",
      "\u001b[1;31mCommand: '/bin/python3 -m pip install ipykernel -U --user --force-reinstall'"
     ]
    }
   ],
   "source": [
    "import pandas as pd\n",
    "import numpy as np\n",
    "import matplotlib.pyplot as plt\n",
    "import seaborn as sns\n",
    "from sklearn.linear_model import LinearRegression\n",
    "\n",
    "# Convertir les dates en datetime\n",
    "df[\"dt\"] = pd.to_datetime(df[\"dt\"], errors=\"coerce\")\n",
    "\n",
    "# Filtrer pour l'été (juin à août) à New York\n",
    "targetedTime = df[\n",
    "    (df[\"City\"] == \"New York\") & (df[\"dt\"].dt.year >= 2000) & (df[\"dt\"].dt.month.isin([6, 7, 8]))\n",
    "]\n",
    "\n",
    "# Grouper par année et calculer la moyenne\n",
    "df_summer_grouped = targetedTime.groupby(df[\"dt\"].dt.year)[\"AverageTemperature\"].mean().reset_index()\n",
    "\n",
    "# Ajouter une colonne \"Type\" pour indiquer qu'il s'agit de vraies données\n",
    "df_summer_grouped[\"Type\"] = \"Réel\"\n",
    "\n",
    "# Séparer les variables\n",
    "X = df_summer_grouped[\"dt\"].values.reshape(-1, 1)  # Années en colonne\n",
    "y = df_summer_grouped[\"AverageTemperature\"].values  # Températures\n",
    "\n",
    "# Entraîner le modèle de régression\n",
    "model = LinearRegression()\n",
    "model.fit(X, y)\n",
    "\n",
    "# Prédire jusqu'en 2020\n",
    "future_years = np.arange(df_summer_grouped[\"dt\"].max() + 1, 2021).reshape(-1, 1)\n",
    "predictions = model.predict(future_years)\n",
    "\n",
    "# Créer un DataFrame pour les prédictions\n",
    "df_predictions = pd.DataFrame({\"dt\": future_years.flatten(), \"AverageTemperature\": predictions, \"Type\": \"Prédiction\"})\n",
    "\n",
    "# Fusionner les vraies valeurs et les prédictions\n",
    "df_combined = pd.concat([df_summer_grouped, df_predictions])\n",
    "\n",
    "# --- 🎨 VISUALISATION --- #\n",
    "plt.figure(figsize=(12, 6))\n",
    "\n",
    "# Tracer les barres des valeurs réelles\n",
    "sns.barplot(\n",
    "    x=df_summer_grouped[\"dt\"],\n",
    "    y=df_summer_grouped[\"AverageTemperature\"],\n",
    "    color=\"blue\",\n",
    "    label=\"Données Réelles\"\n",
    ")\n",
    "\n",
    "# Tracer les barres des prédictions\n",
    "sns.barplot(\n",
    "    x=df_predictions[\"dt\"],\n",
    "    y=df_predictions[\"AverageTemperature\"],\n",
    "    color=\"red\",\n",
    "    label=\"Prédictions\"\n",
    ")\n",
    "\n",
    "# Amélioration du style\n",
    "plt.xlabel(\"Années\")\n",
    "plt.ylabel(\"Température Moyenne (°C)\")\n",
    "plt.title(\"Prédiction des Températures Estivales à New York\")\n",
    "plt.legend()\n",
    "plt.xticks(rotation=45)\n",
    "plt.show()\n"
   ]
  }
 ],
 "metadata": {
  "kernelspec": {
   "display_name": "Python 3",
   "language": "python",
   "name": "python3"
  },
  "language_info": {
   "name": "python",
   "version": "3.12.3"
  }
 },
 "nbformat": 4,
 "nbformat_minor": 2
}
